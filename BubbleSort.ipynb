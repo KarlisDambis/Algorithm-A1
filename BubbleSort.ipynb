{
  "nbformat": 4,
  "nbformat_minor": 0,
  "metadata": {
    "colab": {
      "name": "Untitled0.ipynb",
      "provenance": [],
      "collapsed_sections": [],
      "authorship_tag": "ABX9TyMWW+/tKhhf6oxLajat9zoj",
      "include_colab_link": true
    },
    "kernelspec": {
      "name": "python3",
      "display_name": "Python 3"
    },
    "language_info": {
      "name": "python"
    }
  },
  "cells": [
    {
      "cell_type": "markdown",
      "metadata": {
        "id": "view-in-github",
        "colab_type": "text"
      },
      "source": [
        "<a href=\"https://colab.research.google.com/github/KarlisDambis/Algorithm-A1/blob/main/BubbleSort.ipynb\" target=\"_parent\"><img src=\"https://colab.research.google.com/assets/colab-badge.svg\" alt=\"Open In Colab\"/></a>"
      ]
    },
    {
      "cell_type": "code",
      "metadata": {
        "colab": {
          "base_uri": "https://localhost:8080/"
        },
        "id": "bUDBqCjNr1D4",
        "outputId": "0873188d-c53e-4e95-b2e3-1073a0bd6b9f"
      },
      "source": [
        "def bubbleSort(word):\n",
        "  a = list(word)\n",
        "  for i in range(len(a)):\n",
        "    for j in range(len(a)-i-1):\n",
        "\n",
        "      if ord(a[j]) > ord(a[j+1]):\n",
        "        a[j], a[j+1] = a[j+1], a[j]\n",
        "  return a\n",
        "\n",
        "print(bubbleSort(\"KarlisDambis\"))\n"
      ],
      "execution_count": 8,
      "outputs": [
        {
          "output_type": "stream",
          "text": [
            "['D', 'K', 'a', 'a', 'b', 'i', 'i', 'l', 'm', 'r', 's', 's']\n"
          ],
          "name": "stdout"
        }
      ]
    }
  ]
}